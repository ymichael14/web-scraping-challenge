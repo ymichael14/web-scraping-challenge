{
 "cells": [
  {
   "cell_type": "code",
   "execution_count": 1,
   "id": "83b678ba",
   "metadata": {},
   "outputs": [],
   "source": [
    "import pandas as pd\n",
    "from bs4 import BeautifulSoup\n",
    "from splinter import Browser\n",
    "from webdriver_manager.chrome import ChromeDriverManager\n",
    "import pymongo\n",
    "import ssl\n",
    "import requests"
   ]
  },
  {
   "cell_type": "code",
   "execution_count": 2,
   "id": "7651c3fa",
   "metadata": {},
   "outputs": [
    {
     "name": "stderr",
     "output_type": "stream",
     "text": [
      "[WDM] - Downloading: 100%|█████████████████████████████████████████████████████████████████████████████████████████████████████████████████████████████████████████████████| 6.29M/6.29M [00:00<00:00, 21.3MB/s]\n"
     ]
    }
   ],
   "source": [
    "executable_path = {'executable_path': ChromeDriverManager().install()}\n",
    "browser = Browser('chrome', **executable_path, headless=False)"
   ]
  },
  {
   "cell_type": "code",
   "execution_count": null,
   "id": "f76e1a44",
   "metadata": {},
   "outputs": [],
   "source": [
    "#builds our connection to mongoDB\n",
    "conn='mongodb://localhost:27017'\n",
    "client=pymongo.MongoClient(conn)"
   ]
  },
  {
   "cell_type": "code",
   "execution_count": 3,
   "id": "609656d2",
   "metadata": {},
   "outputs": [],
   "source": [
    "#sending splinter to the url for assignment\n",
    "\n",
    "url='https://redplanetscience.com/'\n",
    "browser.visit(url)\n"
   ]
  },
  {
   "cell_type": "code",
   "execution_count": 4,
   "id": "3c4afcad",
   "metadata": {},
   "outputs": [],
   "source": [
    "#this get the html code from the website requests.get(url) doesn't work for some reason\n",
    "html=browser.html\n",
    "soup=BeautifulSoup(html, 'html.parser')\n",
    "# print(soup.prettify())\n"
   ]
  },
  {
   "cell_type": "markdown",
   "id": "ea8268ec",
   "metadata": {},
   "source": [
    "### NASA Mars News\n",
    "\n",
    "* Scrape the [Mars News Site](https://redplanetscience.com/) and collect the latest News Title and Paragraph Text. Assign the text to variables that you can reference later.\n"
   ]
  },
  {
   "cell_type": "code",
   "execution_count": 5,
   "id": "d650d3de",
   "metadata": {},
   "outputs": [],
   "source": [
    "#we are retrieving all the headlines \n",
    "results=soup.find_all('section', class_='image_and_description_container')#the large section of stories \n",
    "headline_div=results[0].find_all('div', class_='content_title')#the div that contains the headline text\n",
    "headline=''#the list to contain all headlines \n",
    "for item in headline_div[0]:    #for loop to add them to our previously created list\n",
    "    headline=item.text"
   ]
  },
  {
   "cell_type": "code",
   "execution_count": 6,
   "id": "bc021cd5",
   "metadata": {},
   "outputs": [
    {
     "data": {
      "text/plain": [
       "\"NASA's Perseverance Rover Is Midway to Mars \""
      ]
     },
     "execution_count": 6,
     "metadata": {},
     "output_type": "execute_result"
    }
   ],
   "source": [
    "news_title=headline # this is the most recent headline\n",
    "news_title"
   ]
  },
  {
   "cell_type": "code",
   "execution_count": 7,
   "id": "8fe10882",
   "metadata": {},
   "outputs": [],
   "source": [
    "#this gets the corresponding paragrah teaser\n",
    "news_parag_teaser=results[0].find_all('div', class_='article_teaser_body')"
   ]
  },
  {
   "cell_type": "code",
   "execution_count": 35,
   "id": "675a3736",
   "metadata": {},
   "outputs": [
    {
     "data": {
      "text/plain": [
       "\"Sometimes half measures can be a good thing – especially on a journey this long. The agency's latest rover only has about 146 million miles left to reach its destination.\""
      ]
     },
     "execution_count": 35,
     "metadata": {},
     "output_type": "execute_result"
    }
   ],
   "source": [
    "news_parag_teaser[0].text"
   ]
  },
  {
   "cell_type": "code",
   "execution_count": 8,
   "id": "a40121a4",
   "metadata": {},
   "outputs": [],
   "source": [
    "paragraph_news=''\n",
    "for item in news_parag_teaser[0]:\n",
    "    paragraph_news=item.text"
   ]
  },
  {
   "cell_type": "code",
   "execution_count": 9,
   "id": "f9dce83b",
   "metadata": {},
   "outputs": [
    {
     "data": {
      "text/plain": [
       "\"Sometimes half measures can be a good thing – especially on a journey this long. The agency's latest rover only has about 146 million miles left to reach its destination.\""
      ]
     },
     "execution_count": 9,
     "metadata": {},
     "output_type": "execute_result"
    }
   ],
   "source": [
    "paragraph_news"
   ]
  },
  {
   "cell_type": "markdown",
   "id": "e02ad304",
   "metadata": {},
   "source": [
    "\n",
    "### JPL Mars Space Images—Featured Image\n",
    "\n",
    "* Visit the URL for the Featured Space Image site [here](https://spaceimages-mars.com).\n",
    "\n",
    "* Use Splinter to navigate the site and find the image URL for the current Featured Mars Image, then assign the URL string to a variable called `featured_image_url`.\n",
    "\n",
    "* Be sure to find the image URL to the full-sized `.jpg` image.\n",
    "\n",
    "* Be sure to save a complete URL string for this image."
   ]
  },
  {
   "cell_type": "code",
   "execution_count": 10,
   "id": "12c656d2",
   "metadata": {},
   "outputs": [],
   "source": [
    "browser.visit('https://spaceimages-mars.com/')"
   ]
  },
  {
   "cell_type": "code",
   "execution_count": 11,
   "id": "0d3d67ac",
   "metadata": {},
   "outputs": [],
   "source": [
    "html_image=browser.html\n",
    "soup=BeautifulSoup(html_image, 'html.parser')\n",
    "# print(soup.prettify())"
   ]
  },
  {
   "cell_type": "code",
   "execution_count": 12,
   "id": "aa09e025",
   "metadata": {},
   "outputs": [],
   "source": [
    "# soup.find_all('img', class_=\"headerimage\")\n",
    "src=soup.select('.headerimage.fade-in')[0]['src']"
   ]
  },
  {
   "cell_type": "code",
   "execution_count": 13,
   "id": "cc0ab4e2",
   "metadata": {},
   "outputs": [
    {
     "data": {
      "text/plain": [
       "'https://spaceimages-mars.com/image/featured/mars3.jpg'"
      ]
     },
     "execution_count": 13,
     "metadata": {},
     "output_type": "execute_result"
    }
   ],
   "source": [
    "feature_image_url='https://spaceimages-mars.com/'+src\n",
    "feature_image_url"
   ]
  },
  {
   "cell_type": "code",
   "execution_count": 14,
   "id": "30def275",
   "metadata": {},
   "outputs": [
    {
     "data": {
      "text/plain": [
       "'https://spaceimages-mars.com/image/featured/mars3.jpg'"
      ]
     },
     "execution_count": 14,
     "metadata": {},
     "output_type": "execute_result"
    }
   ],
   "source": [
    "feature_image_url"
   ]
  },
  {
   "cell_type": "markdown",
   "id": "f38e0932",
   "metadata": {},
   "source": [
    "### Mars Facts\n",
    "\n",
    "* Visit the [Mars Facts webpage](https://galaxyfacts-mars.com) and use Pandas to scrape the table containing facts about the planet including diameter, mass, etc.\n",
    "\n",
    "* Use Pandas to convert the data to a HTML table string."
   ]
  },
  {
   "cell_type": "code",
   "execution_count": 15,
   "id": "409508ba",
   "metadata": {},
   "outputs": [
    {
     "data": {
      "text/plain": [
       "2"
      ]
     },
     "execution_count": 15,
     "metadata": {},
     "output_type": "execute_result"
    }
   ],
   "source": [
    "#pandas scraping   \n",
    "url='https://galaxyfacts-mars.com/'\n",
    "tables=pd.read_html(url)\n",
    "len(tables)"
   ]
  },
  {
   "cell_type": "code",
   "execution_count": 16,
   "id": "8ae08cb2",
   "metadata": {},
   "outputs": [
    {
     "data": {
      "text/plain": [
       "[                         0                1                2\n",
       " 0  Mars - Earth Comparison             Mars            Earth\n",
       " 1                Diameter:         6,779 km        12,742 km\n",
       " 2                    Mass:  6.39 × 10^23 kg  5.97 × 10^24 kg\n",
       " 3                   Moons:                2                1\n",
       " 4       Distance from Sun:   227,943,824 km   149,598,262 km\n",
       " 5          Length of Year:   687 Earth days      365.24 days\n",
       " 6             Temperature:     -87 to -5 °C      -88 to 58°C,\n",
       "                       0                              1\n",
       " 0  Equatorial Diameter:                       6,792 km\n",
       " 1       Polar Diameter:                       6,752 km\n",
       " 2                 Mass:  6.39 × 10^23 kg (0.11 Earths)\n",
       " 3                Moons:          2 ( Phobos & Deimos )\n",
       " 4       Orbit Distance:       227,943,824 km (1.38 AU)\n",
       " 5         Orbit Period:           687 days (1.9 years)\n",
       " 6  Surface Temperature:                   -87 to -5 °C\n",
       " 7         First Record:              2nd millennium BC\n",
       " 8          Recorded By:           Egyptian astronomers]"
      ]
     },
     "execution_count": 16,
     "metadata": {},
     "output_type": "execute_result"
    }
   ],
   "source": [
    "tables"
   ]
  },
  {
   "cell_type": "code",
   "execution_count": 17,
   "id": "1c66fb1f",
   "metadata": {},
   "outputs": [],
   "source": [
    "mars_facts=tables[1]\n",
    "mars_facts.columns=['Metric', 'Value']\n",
    "mars_facts.to_html('mars_facts_from_web.html', index=False)"
   ]
  },
  {
   "cell_type": "code",
   "execution_count": 18,
   "id": "90b6d0ae",
   "metadata": {},
   "outputs": [
    {
     "data": {
      "text/html": [
       "<div>\n",
       "<style scoped>\n",
       "    .dataframe tbody tr th:only-of-type {\n",
       "        vertical-align: middle;\n",
       "    }\n",
       "\n",
       "    .dataframe tbody tr th {\n",
       "        vertical-align: top;\n",
       "    }\n",
       "\n",
       "    .dataframe thead th {\n",
       "        text-align: right;\n",
       "    }\n",
       "</style>\n",
       "<table border=\"1\" class=\"dataframe\">\n",
       "  <thead>\n",
       "    <tr style=\"text-align: right;\">\n",
       "      <th></th>\n",
       "      <th>Metric</th>\n",
       "      <th>Value</th>\n",
       "    </tr>\n",
       "  </thead>\n",
       "  <tbody>\n",
       "    <tr>\n",
       "      <th>0</th>\n",
       "      <td>Equatorial Diameter:</td>\n",
       "      <td>6,792 km</td>\n",
       "    </tr>\n",
       "    <tr>\n",
       "      <th>1</th>\n",
       "      <td>Polar Diameter:</td>\n",
       "      <td>6,752 km</td>\n",
       "    </tr>\n",
       "    <tr>\n",
       "      <th>2</th>\n",
       "      <td>Mass:</td>\n",
       "      <td>6.39 × 10^23 kg (0.11 Earths)</td>\n",
       "    </tr>\n",
       "    <tr>\n",
       "      <th>3</th>\n",
       "      <td>Moons:</td>\n",
       "      <td>2 ( Phobos &amp; Deimos )</td>\n",
       "    </tr>\n",
       "    <tr>\n",
       "      <th>4</th>\n",
       "      <td>Orbit Distance:</td>\n",
       "      <td>227,943,824 km (1.38 AU)</td>\n",
       "    </tr>\n",
       "    <tr>\n",
       "      <th>5</th>\n",
       "      <td>Orbit Period:</td>\n",
       "      <td>687 days (1.9 years)</td>\n",
       "    </tr>\n",
       "    <tr>\n",
       "      <th>6</th>\n",
       "      <td>Surface Temperature:</td>\n",
       "      <td>-87 to -5 °C</td>\n",
       "    </tr>\n",
       "    <tr>\n",
       "      <th>7</th>\n",
       "      <td>First Record:</td>\n",
       "      <td>2nd millennium BC</td>\n",
       "    </tr>\n",
       "    <tr>\n",
       "      <th>8</th>\n",
       "      <td>Recorded By:</td>\n",
       "      <td>Egyptian astronomers</td>\n",
       "    </tr>\n",
       "  </tbody>\n",
       "</table>\n",
       "</div>"
      ],
      "text/plain": [
       "                 Metric                          Value\n",
       "0  Equatorial Diameter:                       6,792 km\n",
       "1       Polar Diameter:                       6,752 km\n",
       "2                 Mass:  6.39 × 10^23 kg (0.11 Earths)\n",
       "3                Moons:          2 ( Phobos & Deimos )\n",
       "4       Orbit Distance:       227,943,824 km (1.38 AU)\n",
       "5         Orbit Period:           687 days (1.9 years)\n",
       "6  Surface Temperature:                   -87 to -5 °C\n",
       "7         First Record:              2nd millennium BC\n",
       "8          Recorded By:           Egyptian astronomers"
      ]
     },
     "execution_count": 18,
     "metadata": {},
     "output_type": "execute_result"
    }
   ],
   "source": [
    "mars_facts"
   ]
  },
  {
   "cell_type": "markdown",
   "id": "22d3cbbf",
   "metadata": {},
   "source": [
    "\n",
    "### Mars Hemispheres\n",
    "\n",
    "* Visit the [astrogeology site](https://marshemispheres.com/) to obtain high-resolution images for each hemisphere of Mars.\n",
    "\n",
    "* You will need to click each of the links to the hemispheres in order to find the image URL to the full-resolution image.\n",
    "\n",
    "* Save the image URL string for the full resolution hemisphere image and the hemisphere title containing the hemisphere name. Use a Python dictionary to store the data using the keys `img_url` and `title`.\n",
    "\n",
    "* Append the dictionary with the image URL string and the hemisphere title to a list. This list will contain one dictionary for each hemisphere.\n"
   ]
  },
  {
   "cell_type": "code",
   "execution_count": 19,
   "id": "21cb7571",
   "metadata": {},
   "outputs": [],
   "source": [
    "browser.visit('https://marshemispheres.com/')"
   ]
  },
  {
   "cell_type": "code",
   "execution_count": 20,
   "id": "8405b1aa",
   "metadata": {},
   "outputs": [],
   "source": [
    "hemisphere_page=browser.html\n",
    "soup= BeautifulSoup(hemisphere_page, 'html.parser') "
   ]
  },
  {
   "cell_type": "code",
   "execution_count": 21,
   "id": "125d7ecd",
   "metadata": {},
   "outputs": [
    {
     "data": {
      "text/plain": [
       "[<h3>Cerberus Hemisphere Enhanced</h3>,\n",
       " <h3>Schiaparelli Hemisphere Enhanced</h3>,\n",
       " <h3>Syrtis Major Hemisphere Enhanced</h3>,\n",
       " <h3>Valles Marineris Hemisphere Enhanced</h3>]"
      ]
     },
     "execution_count": 21,
     "metadata": {},
     "output_type": "execute_result"
    }
   ],
   "source": [
    "img_results=soup.find_all('h3')\n",
    "img_results=img_results[:4]\n",
    "img_results"
   ]
  },
  {
   "cell_type": "code",
   "execution_count": 22,
   "id": "14012592",
   "metadata": {},
   "outputs": [],
   "source": [
    "hemispheres_mars=[]\n",
    "for item in img_results: \n",
    "    hemispheres_mars.append(item.text)"
   ]
  },
  {
   "cell_type": "code",
   "execution_count": 23,
   "id": "58f0a5de",
   "metadata": {},
   "outputs": [
    {
     "data": {
      "text/plain": [
       "['Cerberus Hemisphere Enhanced',\n",
       " 'Schiaparelli Hemisphere Enhanced',\n",
       " 'Syrtis Major Hemisphere Enhanced',\n",
       " 'Valles Marineris Hemisphere Enhanced']"
      ]
     },
     "execution_count": 23,
     "metadata": {},
     "output_type": "execute_result"
    }
   ],
   "source": [
    "hemispheres_mars"
   ]
  },
  {
   "cell_type": "code",
   "execution_count": 24,
   "id": "667fd367",
   "metadata": {},
   "outputs": [],
   "source": [
    "browser.visit('https://marshemispheres.com/')"
   ]
  },
  {
   "cell_type": "code",
   "execution_count": 25,
   "id": "d41c40a5",
   "metadata": {},
   "outputs": [],
   "source": [
    "browser.links.find_by_partial_text('Cerberus').click()"
   ]
  },
  {
   "cell_type": "code",
   "execution_count": 26,
   "id": "a98eee41",
   "metadata": {},
   "outputs": [],
   "source": [
    "browser.links.find_by_partial_text('Open').click()"
   ]
  },
  {
   "cell_type": "code",
   "execution_count": 27,
   "id": "493aff43",
   "metadata": {},
   "outputs": [],
   "source": [
    "browser.links.find_by_partial_text('Back').click()"
   ]
  },
  {
   "cell_type": "code",
   "execution_count": 28,
   "id": "daf906f4",
   "metadata": {},
   "outputs": [],
   "source": [
    "browser.visit('https://marshemispheres.com/')\n",
    "complete_url_list=[]\n",
    "for x in range(4):\n",
    "    browser.links.find_by_partial_text(hemispheres_mars[x]).click()\n",
    "    hemisphere_image=browser.html\n",
    "    soup = BeautifulSoup(hemisphere_image, 'html.parser') \n",
    "    image_url_end=soup.find_all('img', class_='wide-image')[0]['src']\n",
    "    complete_url='https://marshemispheres.com/'+image_url_end\n",
    "    complete_url_list.append(complete_url)\n",
    "    browser.links.find_by_partial_text('Back').click()\n",
    "    "
   ]
  },
  {
   "cell_type": "code",
   "execution_count": 29,
   "id": "caae2e01",
   "metadata": {},
   "outputs": [
    {
     "data": {
      "text/plain": [
       "['https://marshemispheres.com/images/f5e372a36edfa389625da6d0cc25d905_cerberus_enhanced.tif_full.jpg',\n",
       " 'https://marshemispheres.com/images/3778f7b43bbbc89d6e3cfabb3613ba93_schiaparelli_enhanced.tif_full.jpg',\n",
       " 'https://marshemispheres.com/images/555e6403a6ddd7ba16ddb0e471cadcf7_syrtis_major_enhanced.tif_full.jpg',\n",
       " 'https://marshemispheres.com/images/b3c7c6c9138f57b4756be9b9c43e3a48_valles_marineris_enhanced.tif_full.jpg']"
      ]
     },
     "execution_count": 29,
     "metadata": {},
     "output_type": "execute_result"
    }
   ],
   "source": [
    "complete_url_list"
   ]
  },
  {
   "cell_type": "code",
   "execution_count": 30,
   "id": "bee1782f",
   "metadata": {},
   "outputs": [
    {
     "data": {
      "text/plain": [
       "['Cerberus Hemisphere Enhanced',\n",
       " 'Schiaparelli Hemisphere Enhanced',\n",
       " 'Syrtis Major Hemisphere Enhanced',\n",
       " 'Valles Marineris Hemisphere Enhanced']"
      ]
     },
     "execution_count": 30,
     "metadata": {},
     "output_type": "execute_result"
    }
   ],
   "source": [
    "hemispheres_mars"
   ]
  },
  {
   "cell_type": "code",
   "execution_count": 31,
   "id": "2ba53c91",
   "metadata": {
    "scrolled": true
   },
   "outputs": [
    {
     "data": {
      "text/plain": [
       "[{'title': 'Cerberus Hemisphere Enhanced',\n",
       "  'img_url': 'https://marshemispheres.com/images/f5e372a36edfa389625da6d0cc25d905_cerberus_enhanced.tif_full.jpg'},\n",
       " {'title': 'Schiaparelli Hemisphere Enhanced',\n",
       "  'img_url': 'https://marshemispheres.com/images/3778f7b43bbbc89d6e3cfabb3613ba93_schiaparelli_enhanced.tif_full.jpg'},\n",
       " {'title': 'Syrtis Major Hemisphere Enhanced',\n",
       "  'img_url': 'https://marshemispheres.com/images/555e6403a6ddd7ba16ddb0e471cadcf7_syrtis_major_enhanced.tif_full.jpg'},\n",
       " {'title': 'Valles Marineris Hemisphere Enhanced',\n",
       "  'img_url': 'https://marshemispheres.com/images/b3c7c6c9138f57b4756be9b9c43e3a48_valles_marineris_enhanced.tif_full.jpg'}]"
      ]
     },
     "execution_count": 31,
     "metadata": {},
     "output_type": "execute_result"
    }
   ],
   "source": [
    "hemisphere_mars_url_img=[{'title':hemispheres_mars[0], 'img_url':complete_url_list[0]},\n",
    "                         {'title':hemispheres_mars[1], 'img_url':complete_url_list[1]},\n",
    "                         {'title':hemispheres_mars[2], 'img_url':complete_url_list[2]},\n",
    "                         {'title':hemispheres_mars[3], 'img_url':complete_url_list[3]}\n",
    "                        ]\n",
    "hemisphere_mars_url_img"
   ]
  },
  {
   "cell_type": "code",
   "execution_count": null,
   "id": "00ef3a85",
   "metadata": {},
   "outputs": [],
   "source": []
  },
  {
   "cell_type": "code",
   "execution_count": null,
   "id": "12496167",
   "metadata": {},
   "outputs": [],
   "source": []
  },
  {
   "cell_type": "code",
   "execution_count": null,
   "id": "08f91ca0",
   "metadata": {},
   "outputs": [],
   "source": []
  }
 ],
 "metadata": {
  "kernelspec": {
   "display_name": "PythonData",
   "language": "python",
   "name": "pythondata"
  },
  "language_info": {
   "codemirror_mode": {
    "name": "ipython",
    "version": 3
   },
   "file_extension": ".py",
   "mimetype": "text/x-python",
   "name": "python",
   "nbconvert_exporter": "python",
   "pygments_lexer": "ipython3",
   "version": "3.9.12"
  }
 },
 "nbformat": 4,
 "nbformat_minor": 5
}
